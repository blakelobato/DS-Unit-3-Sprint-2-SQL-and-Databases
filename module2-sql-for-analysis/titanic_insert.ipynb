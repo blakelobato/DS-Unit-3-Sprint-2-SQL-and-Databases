{
  "nbformat": 4,
  "nbformat_minor": 0,
  "metadata": {
    "colab": {
      "name": "titanic_insert.ipynb",
      "provenance": [],
      "collapsed_sections": [],
      "authorship_tag": "ABX9TyNhl2Nxa6ZAThu/VSizTm3+",
      "include_colab_link": true
    },
    "kernelspec": {
      "name": "python3",
      "display_name": "Python 3"
    }
  },
  "cells": [
    {
      "cell_type": "markdown",
      "metadata": {
        "id": "view-in-github",
        "colab_type": "text"
      },
      "source": [
        "<a href=\"https://colab.research.google.com/github/blakelobato/DS-Unit-3-Sprint-2-SQL-and-Databases/blob/master/module2-sql-for-analysis/titanic_insert.ipynb\" target=\"_parent\"><img src=\"https://colab.research.google.com/assets/colab-badge.svg\" alt=\"Open In Colab\"/></a>"
      ]
    },
    {
      "cell_type": "code",
      "metadata": {
        "id": "508Or2rICAnA",
        "colab_type": "code",
        "colab": {}
      },
      "source": [
        "import json\n",
        "import os\n",
        "from dotenv import load_dotenv\n",
        "import pandas as pd\n",
        "import sqlite3\n",
        "import psycopg2\n",
        "from psycopg2.extras import execute_values\n",
        "\n",
        "load_dotenv() # looks inside the .env file for some env vars\n",
        "\n",
        "# passes env var values to python var\n",
        "DB_HOST = os.getenv(\"DB_HOST\", default=\"OOPS\")\n",
        "DB_NAME = os.getenv(\"DB_NAME\", default=\"OOPS\")\n",
        "DB_USER = os.getenv(\"DB_USER\", default=\"OOPS\")\n",
        "DB_PASSWORD = os.getenv(\"DB_PASSWORD\", default=\"OOPS\")\n",
        "\n",
        "DB_FILEPATH = os.path.join(os.path.dirname(__file__), \"titanic.csv\")\n",
        "\n",
        "class titanic_insert():\n",
        "    def __init__(self):\n",
        "        self.sqlite_connection = sqlite3.connect(DB_FILEPATH)\n",
        "        self.sqlite_cursor = self.sqlite_connection.cursor()\n",
        "        self.pg_connection = psycopg2.connect(dbname=DB_NAME, user=DB_USER, password=DB_PASSWORD, host=DB_HOST)\n",
        "        self.pg_cursor = self.pg_connection.cursor()\n",
        "\n",
        "    def create_people_class_querry(self):\n",
        "        create_query = \"\"\"\n",
        "        DROP TABLE IF EXISTS people_class; -- allows this to be run idempotently, avoids psycopg2.errors.UniqueViolation: duplicate key value violates unique constraint \"characters_pkey\" DETAIL:  Key (character_id)=(1) already exists.\n",
        "        CREATE TABLE IF NOT EXISTS people_class (\n",
        "            id SERIAL PRIMARY KEY,\n",
        "            name VARCHAR(30),\n",
        "            pclass INT,\n",
        "            gender VARCHAR(30),\n",
        "            lived BOOL,\n",
        "            age INT,\n",
        "            fare FLOAT\n",
        "        );\n",
        "        \"\"\"\n",
        "        print(create_query)\n",
        "        self.pg_cursor.execute(create_query)\n",
        "        self.pg_connection.commit()\n",
        "\n",
        "    def insert_people(self, people):\n",
        "        insertion_query = \"INSERT INTO characters (id, name, pclass, gender, lived, age, fare) VALUES %s\"\n",
        "        list_of_tuples = people\n",
        "        execute_values(self.pg_cursor, insertion_query, list_of_tuples)\n",
        "        self.pg_connection.commit()\n",
        "\n",
        "if __name__ == \"__main__\":\n",
        "\n",
        "    service = titanic_insert()\n",
        "\n",
        "    #\n",
        "    # EXTRACT AND TRANSFORM\n",
        "    #\n",
        "\n",
        "    people = service.get_people()\n",
        "    print(type(people), len(people))\n",
        "    print(people[0])\n",
        "\n",
        "    #\n",
        "    # LOAD\n",
        "    #\n",
        "\n",
        "    service.create_people_table()\n",
        "\n",
        "    service.insert_people(people)"
      ],
      "execution_count": 0,
      "outputs": []
    }
  ]
}