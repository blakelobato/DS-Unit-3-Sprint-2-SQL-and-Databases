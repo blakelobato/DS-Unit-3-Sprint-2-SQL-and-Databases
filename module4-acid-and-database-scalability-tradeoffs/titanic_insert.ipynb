{
  "nbformat": 4,
  "nbformat_minor": 0,
  "metadata": {
    "colab": {
      "name": "titanic_insert.ipynb",
      "provenance": [],
      "collapsed_sections": [],
      "toc_visible": true,
      "authorship_tag": "ABX9TyM7xeaacXtNWAljoOnsn0C+",
      "include_colab_link": true
    },
    "kernelspec": {
      "name": "python3",
      "display_name": "Python 3"
    }
  },
  "cells": [
    {
      "cell_type": "markdown",
      "metadata": {
        "id": "view-in-github",
        "colab_type": "text"
      },
      "source": [
        "<a href=\"https://colab.research.google.com/github/blakelobato/DS-Unit-3-Sprint-2-SQL-and-Databases/blob/master/module4-acid-and-database-scalability-tradeoffs/titanic_insert.ipynb\" target=\"_parent\"><img src=\"https://colab.research.google.com/assets/colab-badge.svg\" alt=\"Open In Colab\"/></a>"
      ]
    },
    {
      "cell_type": "code",
      "metadata": {
        "id": "508Or2rICAnA",
        "colab_type": "code",
        "colab": {
          "base_uri": "https://localhost:8080/",
          "height": 353
        },
        "outputId": "97eb1391-3afc-431f-bfef-d6ba849337d1"
      },
      "source": [
        "import json\n",
        "import os\n",
        "from dotenv import load_dotenv\n",
        "import pandas as pd\n",
        "import sqlite3\n",
        "import psycopg2\n",
        "from psycopg2.extras import execute_values\n",
        "\n",
        "load_dotenv() # looks inside the .env file for some env vars\n",
        "\n",
        "df = pd.read_csv('titanic.csv')\n",
        "\n",
        "db = 'wchktouo'\n",
        "user = 'wchktouo'\n",
        "password = '\tOPPNyyIHthFtqiJ_Kk_SM0str3XkbRLw'  \n",
        "host = 'rajje.db.elephantsql.com'\n",
        "\n",
        "conn = psycopg2.connect(dbname=db, user=user, password=password, host=host)\n",
        "\n",
        "df.to_sql(name='titanic', con = conn, if_exist = 'replace')\n",
        "\n",
        "# passes env var values to python var\n",
        "#DB_HOST = os.getenv(\"DB_HOST\", default=\"OOPS\")\n",
        "#DB_NAME = os.getenv(\"DB_NAME\", default=\"OOPS\")\n",
        "#DB_USER = os.getenv(\"DB_USER\", default=\"OOPS\")\n",
        "#DB_PASSWORD = os.getenv(\"DB_PASSWORD\", default=\"OOPS\")\n",
        "\n",
        "DB_FILEPATH = os.path.join(os.path.dirname(__file__), \"titanic.csv\")\n",
        "\n",
        "class titanic_insert():\n",
        "    def __init__(self):\n",
        "        self.sqlite_connection = sqlite3.connect(DB_FILEPATH)\n",
        "        self.sqlite_cursor = self.sqlite_connection.cursor()\n",
        "        self.pg_connection = psycopg2.connect(dbname=DB_NAME, user=DB_USER, password=DB_PASSWORD, host=DB_HOST)\n",
        "        self.pg_cursor = self.pg_connection.cursor()\n",
        "\n",
        "    def create_people_class_querry(self):\n",
        "        create_query = \"\"\"\n",
        "        DROP TABLE IF EXISTS people_class; -- allows this to be run idempotently, avoids psycopg2.errors.UniqueViolation: duplicate key value violates unique constraint \"characters_pkey\" DETAIL:  Key (character_id)=(1) already exists.\n",
        "        CREATE TABLE IF NOT EXISTS people_class (\n",
        "            id SERIAL PRIMARY KEY,\n",
        "            name VARCHAR(30),\n",
        "            pclass INT,\n",
        "            gender VARCHAR(30),\n",
        "            lived BOOL,\n",
        "            age INT,\n",
        "            fare FLOAT\n",
        "        );\n",
        "        \"\"\"\n",
        "        print(create_query)\n",
        "        self.pg_cursor.execute(create_query)\n",
        "        self.pg_connection.commit()\n",
        "\n",
        "    def insert_people(self, people):\n",
        "        insertion_query = \"INSERT INTO characters (id, name, pclass, gender, lived, age, fare) VALUES %s\"\n",
        "        list_of_tuples = people\n",
        "        execute_values(self.pg_cursor, insertion_query, list_of_tuples)\n",
        "        self.pg_connection.commit()\n",
        "\n",
        "if __name__ == \"__main__\":\n",
        "\n",
        "    service = titanic_insert()\n",
        "\n",
        "    #\n",
        "    # EXTRACT AND TRANSFORM\n",
        "    #\n",
        "\n",
        "    people = service.get_people()\n",
        "    print(type(people), len(people))\n",
        "    print(people[0])\n",
        "\n",
        "    #\n",
        "    # LOAD\n",
        "    #\n",
        "\n",
        "    service.create_people_table()\n",
        "\n",
        "    service.insert_people(people)"
      ],
      "execution_count": 1,
      "outputs": [
        {
          "output_type": "error",
          "ename": "ModuleNotFoundError",
          "evalue": "ignored",
          "traceback": [
            "\u001b[0;31m---------------------------------------------------------------------------\u001b[0m",
            "\u001b[0;31mModuleNotFoundError\u001b[0m                       Traceback (most recent call last)",
            "\u001b[0;32m<ipython-input-1-bcd05dfaea6f>\u001b[0m in \u001b[0;36m<module>\u001b[0;34m()\u001b[0m\n\u001b[1;32m      1\u001b[0m \u001b[0;32mimport\u001b[0m \u001b[0mjson\u001b[0m\u001b[0;34m\u001b[0m\u001b[0;34m\u001b[0m\u001b[0m\n\u001b[1;32m      2\u001b[0m \u001b[0;32mimport\u001b[0m \u001b[0mos\u001b[0m\u001b[0;34m\u001b[0m\u001b[0;34m\u001b[0m\u001b[0m\n\u001b[0;32m----> 3\u001b[0;31m \u001b[0;32mfrom\u001b[0m \u001b[0mdotenv\u001b[0m \u001b[0;32mimport\u001b[0m \u001b[0mload_dotenv\u001b[0m\u001b[0;34m\u001b[0m\u001b[0;34m\u001b[0m\u001b[0m\n\u001b[0m\u001b[1;32m      4\u001b[0m \u001b[0;32mimport\u001b[0m \u001b[0mpandas\u001b[0m \u001b[0;32mas\u001b[0m \u001b[0mpd\u001b[0m\u001b[0;34m\u001b[0m\u001b[0;34m\u001b[0m\u001b[0m\n\u001b[1;32m      5\u001b[0m \u001b[0;32mimport\u001b[0m \u001b[0msqlite3\u001b[0m\u001b[0;34m\u001b[0m\u001b[0;34m\u001b[0m\u001b[0m\n",
            "\u001b[0;31mModuleNotFoundError\u001b[0m: No module named 'dotenv'",
            "",
            "\u001b[0;31m---------------------------------------------------------------------------\u001b[0;32m\nNOTE: If your import is failing due to a missing package, you can\nmanually install dependencies using either !pip or !apt.\n\nTo view examples of installing some common dependencies, click the\n\"Open Examples\" button below.\n\u001b[0;31m---------------------------------------------------------------------------\u001b[0m\n"
          ]
        }
      ]
    },
    {
      "cell_type": "code",
      "metadata": {
        "id": "eJnOsGGmuB3c",
        "colab_type": "code",
        "colab": {
          "base_uri": "https://localhost:8080/",
          "height": 33
        },
        "outputId": "7f8f1458-7cf0-4a5d-cdee-583a322d571e"
      },
      "source": [
        "import json\n",
        "import os\n",
        "#!pip install python dotenv\n",
        "#from dotenv import load_dotenv\n",
        "import pandas as pd\n",
        "import sqlite3\n",
        "!pip install psycopg2\n",
        "import psycopg2\n",
        "from psycopg2.extras import execute_values\n",
        "\n",
        "#load_dotenv() # looks inside the .env file for some env vars\n",
        "\n",
        "df = pd.read_csv('titanic.csv')\n",
        "\n",
        "db = 'mjiwupjp'\n",
        "user = 'mjiwupjp'\n",
        "password = '0S-gNnmqswbhqh-v5Lr8YZQd4CN6_N_E'  \n",
        "host = 'rajje.db.elephantsql.com'\n",
        "\n",
        "conn = psycopg2.connect(dbname=db, user=user, password=password, host=host)\n",
        "\n",
        "### A \"cursor\", a structure to iterate over db records to perform queries\n",
        "cur = conn.cursor()\n",
        "### An example query\n",
        "cur.execute('''CREATE TABLE IF NOT EXISTS people_class (id SERIAL PRIMARY KEY)''')\n",
        "\n",
        "\n",
        "\n",
        "### Above have created a table^^^\n",
        "#go in loop reading data from df and insert into the table \n",
        "\n",
        "#df.to_sql(name ='titanic_df', con = conn) #, if_exist = 'replace'"
      ],
      "execution_count": 22,
      "outputs": [
        {
          "output_type": "stream",
          "text": [
            "Requirement already satisfied: psycopg2 in /usr/local/lib/python3.6/dist-packages (2.7.6.1)\n"
          ],
          "name": "stdout"
        }
      ]
    },
    {
      "cell_type": "code",
      "metadata": {
        "id": "0KpnPBpa03ko",
        "colab_type": "code",
        "colab": {
          "base_uri": "https://localhost:8080/",
          "height": 256
        },
        "outputId": "d530016e-fd15-445e-db44-b6f083a91cc8"
      },
      "source": [
        "cur = conn.cursor()\n",
        "cur.execute('''CREATE TABLE titanic(Surivied:bool, Pclass:int, Name:string, Age:int, siblings:int, parents:int, Fare:float)''')\n",
        "for row in df.iterrows():\n",
        "  insert_titanic = \"\"\"INSERT INTO people_class (Survived, Pclass, Name, Sex, Age, siblings, parents, Fare) VALUES\"\"\" + str(row[1:]) + \";\"\n",
        "  print(insert_titanic)\n",
        "  cur.execute(insert_titanic)\n",
        "cur.close()\n",
        "\n"
      ],
      "execution_count": 41,
      "outputs": [
        {
          "output_type": "error",
          "ename": "ProgrammingError",
          "evalue": "ignored",
          "traceback": [
            "\u001b[0;31m---------------------------------------------------------------------------\u001b[0m",
            "\u001b[0;31mProgrammingError\u001b[0m                          Traceback (most recent call last)",
            "\u001b[0;32m<ipython-input-41-1e7935dde5f6>\u001b[0m in \u001b[0;36m<module>\u001b[0;34m()\u001b[0m\n\u001b[1;32m      1\u001b[0m \u001b[0mcur\u001b[0m \u001b[0;34m=\u001b[0m \u001b[0mconn\u001b[0m\u001b[0;34m.\u001b[0m\u001b[0mcursor\u001b[0m\u001b[0;34m(\u001b[0m\u001b[0;34m)\u001b[0m\u001b[0;34m\u001b[0m\u001b[0;34m\u001b[0m\u001b[0m\n\u001b[0;32m----> 2\u001b[0;31m \u001b[0mcur\u001b[0m\u001b[0;34m.\u001b[0m\u001b[0mexecute\u001b[0m\u001b[0;34m(\u001b[0m\u001b[0;34m'''CREATE TABLE titanic(Surivied:bool, Pclass:int, Name:string, Age:int, siblings:int, parents:int, Fare:float)'''\u001b[0m\u001b[0;34m)\u001b[0m\u001b[0;34m\u001b[0m\u001b[0;34m\u001b[0m\u001b[0m\n\u001b[0m\u001b[1;32m      3\u001b[0m \u001b[0;32mfor\u001b[0m \u001b[0mrow\u001b[0m \u001b[0;32min\u001b[0m \u001b[0mdf\u001b[0m\u001b[0;34m.\u001b[0m\u001b[0miterrows\u001b[0m\u001b[0;34m(\u001b[0m\u001b[0;34m)\u001b[0m\u001b[0;34m:\u001b[0m\u001b[0;34m\u001b[0m\u001b[0;34m\u001b[0m\u001b[0m\n\u001b[1;32m      4\u001b[0m   \u001b[0minsert_titanic\u001b[0m \u001b[0;34m=\u001b[0m \u001b[0;34m\"\"\"INSERT INTO people_class (Survived, Pclass, Name, Sex, Age, siblings, parents, Fare) VALUES\"\"\"\u001b[0m \u001b[0;34m+\u001b[0m \u001b[0mstr\u001b[0m\u001b[0;34m(\u001b[0m\u001b[0mrow\u001b[0m\u001b[0;34m[\u001b[0m\u001b[0;36m1\u001b[0m\u001b[0;34m:\u001b[0m\u001b[0;34m]\u001b[0m\u001b[0;34m)\u001b[0m \u001b[0;34m+\u001b[0m \u001b[0;34m\";\"\u001b[0m\u001b[0;34m\u001b[0m\u001b[0;34m\u001b[0m\u001b[0m\n\u001b[1;32m      5\u001b[0m   \u001b[0mprint\u001b[0m\u001b[0;34m(\u001b[0m\u001b[0minsert_titanic\u001b[0m\u001b[0;34m)\u001b[0m\u001b[0;34m\u001b[0m\u001b[0;34m\u001b[0m\u001b[0m\n",
            "\u001b[0;31mProgrammingError\u001b[0m: syntax error at or near \":\"\nLINE 1: CREATE TABLE titanic(Surivied:bool, Pclass:int, Name:string,...\n                                     ^\n"
          ]
        }
      ]
    },
    {
      "cell_type": "code",
      "metadata": {
        "id": "fuOVkCW-vK2q",
        "colab_type": "code",
        "colab": {
          "base_uri": "https://localhost:8080/",
          "height": 191
        },
        "outputId": "eed7a9d1-78ea-46d9-f4cc-7dd19867040b"
      },
      "source": [
        "df = pd.read_csv('titanic.csv')\n",
        "df.head()"
      ],
      "execution_count": 11,
      "outputs": [
        {
          "output_type": "execute_result",
          "data": {
            "text/html": [
              "<div>\n",
              "<style scoped>\n",
              "    .dataframe tbody tr th:only-of-type {\n",
              "        vertical-align: middle;\n",
              "    }\n",
              "\n",
              "    .dataframe tbody tr th {\n",
              "        vertical-align: top;\n",
              "    }\n",
              "\n",
              "    .dataframe thead th {\n",
              "        text-align: right;\n",
              "    }\n",
              "</style>\n",
              "<table border=\"1\" class=\"dataframe\">\n",
              "  <thead>\n",
              "    <tr style=\"text-align: right;\">\n",
              "      <th></th>\n",
              "      <th>Survived</th>\n",
              "      <th>Pclass</th>\n",
              "      <th>Name</th>\n",
              "      <th>Sex</th>\n",
              "      <th>Age</th>\n",
              "      <th>Siblings/Spouses Aboard</th>\n",
              "      <th>Parents/Children Aboard</th>\n",
              "      <th>Fare</th>\n",
              "    </tr>\n",
              "  </thead>\n",
              "  <tbody>\n",
              "    <tr>\n",
              "      <th>0</th>\n",
              "      <td>0</td>\n",
              "      <td>3</td>\n",
              "      <td>Mr. Owen Harris Braund</td>\n",
              "      <td>male</td>\n",
              "      <td>22.0</td>\n",
              "      <td>1</td>\n",
              "      <td>0</td>\n",
              "      <td>7.2500</td>\n",
              "    </tr>\n",
              "    <tr>\n",
              "      <th>1</th>\n",
              "      <td>1</td>\n",
              "      <td>1</td>\n",
              "      <td>Mrs. John Bradley (Florence Briggs Thayer) Cum...</td>\n",
              "      <td>female</td>\n",
              "      <td>38.0</td>\n",
              "      <td>1</td>\n",
              "      <td>0</td>\n",
              "      <td>71.2833</td>\n",
              "    </tr>\n",
              "    <tr>\n",
              "      <th>2</th>\n",
              "      <td>1</td>\n",
              "      <td>3</td>\n",
              "      <td>Miss. Laina Heikkinen</td>\n",
              "      <td>female</td>\n",
              "      <td>26.0</td>\n",
              "      <td>0</td>\n",
              "      <td>0</td>\n",
              "      <td>7.9250</td>\n",
              "    </tr>\n",
              "    <tr>\n",
              "      <th>3</th>\n",
              "      <td>1</td>\n",
              "      <td>1</td>\n",
              "      <td>Mrs. Jacques Heath (Lily May Peel) Futrelle</td>\n",
              "      <td>female</td>\n",
              "      <td>35.0</td>\n",
              "      <td>1</td>\n",
              "      <td>0</td>\n",
              "      <td>53.1000</td>\n",
              "    </tr>\n",
              "    <tr>\n",
              "      <th>4</th>\n",
              "      <td>0</td>\n",
              "      <td>3</td>\n",
              "      <td>Mr. William Henry Allen</td>\n",
              "      <td>male</td>\n",
              "      <td>35.0</td>\n",
              "      <td>0</td>\n",
              "      <td>0</td>\n",
              "      <td>8.0500</td>\n",
              "    </tr>\n",
              "  </tbody>\n",
              "</table>\n",
              "</div>"
            ],
            "text/plain": [
              "   Survived  Pclass  ... Parents/Children Aboard     Fare\n",
              "0         0       3  ...                       0   7.2500\n",
              "1         1       1  ...                       0  71.2833\n",
              "2         1       3  ...                       0   7.9250\n",
              "3         1       1  ...                       0  53.1000\n",
              "4         0       3  ...                       0   8.0500\n",
              "\n",
              "[5 rows x 8 columns]"
            ]
          },
          "metadata": {
            "tags": []
          },
          "execution_count": 11
        }
      ]
    },
    {
      "cell_type": "code",
      "metadata": {
        "id": "Tmm9NipqzERq",
        "colab_type": "code",
        "colab": {}
      },
      "source": [
        "#!pip install psycopg2-binary\n",
        "import psycopg2\n",
        "dbname = 'uxdlljnv'\n",
        "user = 'uxdlljnv'\n",
        "password = 'PrNBttEvyflonZQbwTptgWqxwZkLWgc6'\n",
        "host = 'rajje.db.elephantsql.com'\n",
        "pg_conn = psycopg2.connect(dbname=dbname, user=user, password=password, host=host)\n",
        "pg_curs = pg_conn.cursor()\n",
        "# pg_curs.execute('SELECT * FROM test_table;')\n",
        "# print(pg_curs.fetchall())\n",
        "#!\"c:\\Program Files (x86)\\GnuWin32\\wget\" https://github.com/nikibhatt/DS-Unit-3-Sprint-2-SQL-and-Databases/blob/master/module1-introduction-to-sql/rpg_db.sqlite3\n",
        "#!mv 'rpg_db.sqlite3?raw=true' rpg_db.sqlite3\n",
        "import sqlite3\n",
        "sl_conn = sqlite3.connect('rpg_db.sqlite3')\n",
        "sl_curs = sl_conn.cursor()\n",
        "characters = sl_curs.execute('select * from charactercreator_character').fetchall()\n",
        "sl_curs.close()\n",
        "sl_conn.commit()\n",
        "for character in characters:\n",
        "  insert_character = \"\"\"\n",
        "    INSERT INTO charactercreator_character\n",
        "    (name, level, exp, hp, strength, intelligence, dexterity, wisdom)\n",
        "    VALUES \"\"\" + str(character[1:]) + \";\"\n",
        "  pg_curs.execute(insert_character)\n",
        "pg_curs.close()\n",
        "pg_conn.commit()\n",
        "pg_curs = pg_conn.cursor()\n",
        "pg_curs.execute('SELECT * FROM charactercreator_character;')\n",
        "pg_characters = pg_curs.fetchall()\n",
        "pg_curs.close()\n",
        "pg_conn.commit()\n",
        "for character, pg_character in zip(characters, pg_characters):\n",
        "    assert character == pg_character"
      ],
      "execution_count": 0,
      "outputs": []
    }
  ]
}